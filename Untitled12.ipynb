{
  "nbformat": 4,
  "nbformat_minor": 0,
  "metadata": {
    "colab": {
      "name": "Untitled12.ipynb",
      "provenance": []
    },
    "kernelspec": {
      "name": "python3",
      "display_name": "Python 3"
    }
  },
  "cells": [
    {
      "cell_type": "code",
      "metadata": {
        "id": "RjNeHICGgsgD"
      },
      "source": [
        "import numpy as np\r\n",
        "import pandas as pd\r\n",
        "import seaborn as sns\r\n",
        "import matplotlib.pyplot as plt\r\n",
        "import scipy.cluster.hierarchy as shc\r\n",
        "\r\n",
        "from sklearn import metrics\r\n",
        "from sklearn.cluster import KMeans\r\n",
        "from sklearn.decomposition import PCA \r\n",
        "from sklearn.metrics import silhouette_score\r\n",
        "from sklearn.cluster import SpectralClustering\r\n",
        "from sklearn.cluster import AgglomerativeClustering\r\n",
        "from sklearn.preprocessing import StandardScaler, normalize"
      ],
      "execution_count": null,
      "outputs": []
    },
    {
      "cell_type": "code",
      "metadata": {
        "id": "LVGzc8pUgvl9"
      },
      "source": [
        "data = data.drop(\"CUST_ID\", axis = 1)\r\n",
        "data['CREDIT_LIMIT'] = data['CREDIT_LIMIT'].fillna((data['CREDIT_LIMIT'].mean()))\r\n",
        "data['MINIMUM_PAYMENTS'] = data['MINIMUM_PAYMENTS'].fillna((data['MINIMUM_PAYMENTS'].mean()))"
      ],
      "execution_count": null,
      "outputs": []
    },
    {
      "cell_type": "code",
      "metadata": {
        "id": "tERFkpGfgyuV"
      },
      "source": [
        "plt.figure(figsize=(9,7))\r\n",
        "\r\n",
        "sns.heatmap(data.corr(),cmap='coolwarm')\r\n",
        "\r\n",
        "plt.title('Correlation Matrix')"
      ],
      "execution_count": null,
      "outputs": []
    },
    {
      "cell_type": "code",
      "metadata": {
        "id": "G4oUgbO-g1S1"
      },
      "source": [
        "data_scaled = normalize(data)\r\n",
        "data_scaled = pd.DataFrame(data_scaled, columns=data.columns)\r\n",
        "data_scaled.head()"
      ],
      "execution_count": null,
      "outputs": []
    },
    {
      "cell_type": "code",
      "metadata": {
        "id": "m1ZZSF4rg3U0"
      },
      "source": [
        "X = data_scaled.iloc[:, [0, 3]].values\r\n",
        "\r\n",
        "# 3 clusters\r\n",
        "\r\n",
        "plt.figure(figsize=(18,9))\r\n",
        "plt.subplot2grid ((2,3),(0,0))\r\n",
        "\r\n",
        "hierarchical = AgglomerativeClustering(n_clusters=3, affinity='euclidean', linkage='ward')  \r\n",
        "y_kmeans = hierarchical.fit_predict(X)\r\n",
        "\r\n",
        "plt.subplot2grid ((2,3),(0,0))\r\n",
        "\r\n",
        "plt.scatter(X[y_kmeans == 0, 0], X[y_kmeans == 0, 1], s = 100, c = 'red', label = 'A Customers')\r\n",
        "plt.scatter(X[y_kmeans == 1, 0], X[y_kmeans == 1, 1], s = 100, c = 'blue', label = 'B Customers')\r\n",
        "plt.scatter(X[y_kmeans == 2, 0], X[y_kmeans == 2, 1], s = 100, c = 'green', label = 'C Customers')\r\n",
        "\r\n",
        "plt.title('3 Clusters of Customers')\r\n",
        "plt.xlabel('PURCHASES')\r\n",
        "plt.ylabel('ONEOFF_PURCHAS')\r\n",
        "plt.legend()\r\n",
        "\r\n",
        "plt.show()\r\n",
        "\r\n",
        "# 4 clusters\r\n",
        "\r\n",
        "plt.figure(figsize=(18,9))\r\n",
        "plt.subplot2grid ((2,3),(0,1))\r\n",
        "\r\n",
        "hierarchical = AgglomerativeClustering(n_clusters=4, affinity='euclidean', linkage='ward')  \r\n",
        "y_kmeans = hierarchical.fit_predict(X)\r\n",
        "\r\n",
        "plt.scatter(X[y_kmeans == 0, 0], X[y_kmeans == 0, 1], s = 100, c = 'red', label = 'A Customers')\r\n",
        "plt.scatter(X[y_kmeans == 1, 0], X[y_kmeans == 1, 1], s = 100, c = 'blue', label = 'B Customers')\r\n",
        "plt.scatter(X[y_kmeans == 2, 0], X[y_kmeans == 2, 1], s = 100, c = 'green', label = 'C Customers')\r\n",
        "plt.scatter(X[y_kmeans == 3, 0], X[y_kmeans == 3, 1], s = 100, c = 'olive', label = 'D Customers')\r\n",
        "\r\n",
        "plt.title('4 Clusters of Customers')\r\n",
        "plt.xlabel('PURCHASES')\r\n",
        "plt.ylabel('ONEOFF_PURCHAS')\r\n",
        "plt.legend()\r\n",
        "\r\n",
        "# 5 clusters\r\n",
        "\r\n",
        "plt.figure(figsize=(18,9))\r\n",
        "plt.subplot2grid ((2,3),(0,2))\r\n",
        "\r\n",
        "hierarchical = AgglomerativeClustering(n_clusters=5, affinity='euclidean', linkage='ward')  \r\n",
        "y_kmeans = hierarchical.fit_predict(X)\r\n",
        "\r\n",
        "plt.scatter(X[y_kmeans == 0, 0], X[y_kmeans == 0, 1], s = 100, c = 'red', label = 'Sensible Customers')\r\n",
        "plt.scatter(X[y_kmeans == 1, 0], X[y_kmeans == 1, 1], s = 100, c = 'blue', label = 'A Customers')\r\n",
        "plt.scatter(X[y_kmeans == 2, 0], X[y_kmeans == 2, 1], s = 100, c = 'green', label = 'Careful Customers')\r\n",
        "plt.scatter(X[y_kmeans == 3, 0], X[y_kmeans == 3, 1], s = 100, c = 'olive', label = 'B Customers')\r\n",
        "plt.scatter(X[y_kmeans == 4, 0], X[y_kmeans == 4, 1], s = 100, c = 'peru', label = 'C Customers')\r\n",
        "\r\n",
        "plt.title('5 Clusters of Customers')\r\n",
        "plt.xlabel('PURCHASES')\r\n",
        "plt.ylabel('ONEOFF_PURCHAS')\r\n",
        "plt.legend()\r\n",
        "plt.show()"
      ],
      "execution_count": null,
      "outputs": []
    },
    {
      "cell_type": "code",
      "metadata": {
        "id": "BxGUeUQqg5fC"
      },
      "source": [
        "plt.figure(figsize=(10, 7))  \r\n",
        "plt.title(\"Dendrograms\")  \r\n",
        "dend = shc.dendrogram(shc.linkage(data_scaled, method='ward'))"
      ],
      "execution_count": null,
      "outputs": []
    },
    {
      "cell_type": "code",
      "metadata": {
        "id": "xaWzCWmWg7oa"
      },
      "source": [
        "X = data_scaled.iloc[:, [0, 3]].values\r\n"
      ],
      "execution_count": null,
      "outputs": []
    },
    {
      "cell_type": "code",
      "metadata": {
        "id": "dX0nSirCg9JK"
      },
      "source": [
        "wcss = []\r\n",
        "for i in range(1, 11):\r\n",
        "    kmeans = KMeans(n_clusters = i, init = 'k-means++', random_state = 42)\r\n",
        "    kmeans.fit(X)\r\n",
        "    wcss.append(kmeans.inertia_)\r\n",
        "plt.plot(range(1, 11), wcss)\r\n",
        "plt.title('Elbow Method')\r\n",
        "plt.xlabel('Number of clusters')\r\n",
        "plt.ylabel('WCSS')\r\n",
        "plt.show()"
      ],
      "execution_count": null,
      "outputs": []
    },
    {
      "cell_type": "code",
      "metadata": {
        "id": "eOUhA4Bxg_pL"
      },
      "source": [
        "silhouette_scores = [] \r\n",
        "\r\n",
        "for n_cluster in range(2, 11):\r\n",
        "    silhouette_scores.append(silhouette_score(data_scaled, KMeans(n_clusters = n_cluster).fit_predict(data_scaled))) \r\n",
        "    \r\n",
        "# Plotting a bar graph to compare the results \r\n",
        "k = [2, 3, 4, 5, 6,7,8,9,10] \r\n",
        "plt.bar(k, silhouette_scores) \r\n",
        "plt.xlabel('Number of clusters', fontsize = 10) \r\n",
        "plt.ylabel('Silhouette Score', fontsize = 10) \r\n",
        "plt.show()"
      ],
      "execution_count": null,
      "outputs": []
    },
    {
      "cell_type": "code",
      "metadata": {
        "id": "M-kW-0GUhBif"
      },
      "source": [
        "# 3 clusters\r\n",
        "\r\n",
        "kmeans = KMeans(n_clusters = 3, init = 'k-means++', random_state = 42)\r\n",
        "y_kmeans = kmeans.fit_predict(X)\r\n",
        "\r\n",
        "plt.figure(figsize=(20,15))\r\n",
        "\r\n",
        "plt.subplot2grid ((2,3),(0,0))\r\n",
        "\r\n",
        "plt.scatter(X[y_kmeans == 0, 0], X[y_kmeans == 0, 1], s = 100, c = 'red', label = 'Sensible Customers')\r\n",
        "plt.scatter(X[y_kmeans == 1, 0], X[y_kmeans == 1, 1], s = 100, c = 'blue', label = 'Careful Customers')\r\n",
        "plt.scatter(X[y_kmeans == 2, 0], X[y_kmeans == 2, 1], s = 100, c = 'green', label = 'A Customers')\r\n",
        "\r\n",
        "plt.title('3 Clusters of Customers')\r\n",
        "plt.xlabel('PURCHASES')\r\n",
        "plt.ylabel('ONEOFF_PURCHAS')\r\n",
        "plt.legend()\r\n",
        "\r\n",
        "plt.scatter(kmeans.cluster_centers_[:, 0], kmeans.cluster_centers_[:, 1], s=300, c='yellow', label = 'Centroids')\r\n",
        "\r\n",
        "\r\n",
        "# 4 clusters\r\n",
        "\r\n",
        "kmeans = KMeans(n_clusters = 4, init = 'k-means++', random_state = 42)\r\n",
        "y_kmeans = kmeans.fit_predict(X)\r\n",
        "\r\n",
        "plt.subplot2grid ((2,3),(0,1))\r\n",
        "\r\n",
        "plt.scatter(X[y_kmeans == 0, 0], X[y_kmeans == 0, 1], s = 100, c = 'red', label = 'Careful Customers')\r\n",
        "plt.scatter(X[y_kmeans == 1, 0], X[y_kmeans == 1, 1], s = 100, c = 'blue', label = 'Sensible Customers')\r\n",
        "plt.scatter(X[y_kmeans == 2, 0], X[y_kmeans == 2, 1], s = 100, c = 'green', label = 'A Customers')\r\n",
        "plt.scatter(X[y_kmeans == 3, 0], X[y_kmeans == 3, 1], s = 100, c = 'olive', label = 'B Customers')\r\n",
        "\r\n",
        "plt.title('4 Clusters of Customers')\r\n",
        "plt.xlabel('PURCHASES')\r\n",
        "plt.ylabel('ONEOFF_PURCHAS')\r\n",
        "plt.legend()\r\n",
        "\r\n",
        "plt.scatter(kmeans.cluster_centers_[:, 0], kmeans.cluster_centers_[:, 1], s=300, c='yellow', label = 'Centroids')\r\n",
        "\r\n",
        "# 5 clusters\r\n",
        "\r\n",
        "kmeans = KMeans(n_clusters = 5, init = 'k-means++', random_state = 42)\r\n",
        "y_kmeans = kmeans.fit_predict(X)\r\n",
        "\r\n",
        "plt.subplot2grid ((2,3),(0,2))\r\n",
        "\r\n",
        "plt.scatter(X[y_kmeans == 0, 0], X[y_kmeans == 0, 1], s = 100, c = 'red', label = 'Sensible Customers')\r\n",
        "plt.scatter(X[y_kmeans == 1, 0], X[y_kmeans == 1, 1], s = 100, c = 'blue', label = 'A Customers')\r\n",
        "plt.scatter(X[y_kmeans == 2, 0], X[y_kmeans == 2, 1], s = 100, c = 'green', label = 'B Customers')\r\n",
        "plt.scatter(X[y_kmeans == 3, 0], X[y_kmeans == 3, 1], s = 100, c = 'olive', label = 'C Customers')\r\n",
        "plt.scatter(X[y_kmeans == 4, 0], X[y_kmeans == 4, 1], s = 100, c = 'peru', label = 'Careful Customers')\r\n",
        "\r\n",
        "\r\n",
        "plt.title('5 Clusters of Customers')\r\n",
        "plt.xlabel('PURCHASES')\r\n",
        "plt.ylabel('ONEOFF_PURCHAS')\r\n",
        "plt.legend()\r\n",
        "\r\n",
        "plt.scatter(kmeans.cluster_centers_[:, 0], kmeans.cluster_centers_[:, 1], s=300, c='yellow', label = 'Centroids')\r\n",
        "\r\n",
        "\r\n",
        "plt.show()"
      ],
      "execution_count": null,
      "outputs": []
    },
    {
      "cell_type": "code",
      "metadata": {
        "id": "xLtkCI_VhE1o"
      },
      "source": [
        "hierarchical_ = AgglomerativeClustering(n_clusters=3, affinity='euclidean', linkage='ward').fit_predict(X)\r\n",
        "kmeans_ = KMeans(n_clusters = 3, init = 'k-means++', random_state = 42).fit_predict(X)"
      ],
      "execution_count": null,
      "outputs": []
    },
    {
      "cell_type": "code",
      "metadata": {
        "id": "uqllAYTUhLD2"
      },
      "source": [
        "kmeansSilhouette_Score = metrics.silhouette_score(X, kmeans_, metric='euclidean')\r\n",
        "Hierarchical_Silhouette_Score = metrics.silhouette_score(X, hierarchical_, metric='euclidean')"
      ],
      "execution_count": null,
      "outputs": []
    },
    {
      "cell_type": "code",
      "metadata": {
        "id": "PD_UqsdyhMOz"
      },
      "source": [
        "Clustering_Silhouette_Scores = [ ['KMeans',kmeansSilhouette_Score],['Hierarchical',Hierarchical_Silhouette_Score]]\r\n",
        "Clustering_Silhouette_Scores = pd.DataFrame(Clustering_Silhouette_Scores, columns=['Clustering Method', 'Silhouette Score']) \r\n",
        "Clustering_Silhouette_Scores.sort_values(by='Silhouette Score', ascending= False)"
      ],
      "execution_count": null,
      "outputs": []
    },
    {
      "cell_type": "code",
      "metadata": {
        "id": "CJQyEl08hRoX"
      },
      "source": [
        "# 3 clusters\r\n",
        "\r\n",
        "spectral = SpectralClustering(n_clusters=3, affinity=\"nearest_neighbors\", assign_labels='discretize',random_state=40)\r\n",
        "y_spectral = spectral.fit_predict(X)\r\n",
        "\r\n",
        "plt.figure(figsize=(20,15))\r\n",
        "\r\n",
        "plt.subplot2grid ((2,3),(0,0))\r\n",
        "\r\n",
        "plt.scatter(X[y_spectral == 0, 0], X[y_spectral == 0, 1], s = 100, c = 'red', label = 'A Customers')\r\n",
        "plt.scatter(X[y_spectral == 1, 0], X[y_spectral == 1, 1], s = 100, c = 'blue', label = 'B Customers')\r\n",
        "plt.scatter(X[y_spectral == 2, 0], X[y_spectral == 2, 1], s = 100, c = 'green', label = 'C Customers')\r\n",
        "\r\n",
        "plt.title('3 Clusters of Customers')\r\n",
        "plt.xlabel('PURCHASES')\r\n",
        "plt.ylabel('ONEOFF_PURCHAS')\r\n",
        "plt.legend()\r\n",
        "\r\n",
        "# 4 clusters\r\n",
        "\r\n",
        "spectral = SpectralClustering(n_clusters=4, affinity=\"nearest_neighbors\", assign_labels='discretize',random_state=40)\r\n",
        "y_spectral = spectral.fit_predict(X)\r\n",
        "\r\n",
        "\r\n",
        "plt.subplot2grid ((2,3),(0,1))\r\n",
        "\r\n",
        "plt.scatter(X[y_spectral == 0, 0], X[y_spectral == 0, 1], s = 100, c = 'red', label = 'A Customers')\r\n",
        "plt.scatter(X[y_spectral == 1, 0], X[y_spectral == 1, 1], s = 100, c = 'blue', label = 'B Customers')\r\n",
        "plt.scatter(X[y_spectral == 2, 0], X[y_spectral == 2, 1], s = 100, c = 'green', label = 'C Customers')\r\n",
        "plt.scatter(X[y_spectral == 3, 0], X[y_spectral == 3, 1], s = 100, c = 'olive', label = 'D Customers')\r\n",
        "\r\n",
        "plt.title('4 Clusters of Customers')\r\n",
        "plt.xlabel('PURCHASES')\r\n",
        "plt.ylabel('ONEOFF_PURCHAS')\r\n",
        "plt.legend()\r\n",
        "\r\n",
        "# 5 clusters\r\n",
        "\r\n",
        "spectral = SpectralClustering(n_clusters=5, affinity=\"nearest_neighbors\", assign_labels='discretize',random_state=40)\r\n",
        "y_spectral = spectral.fit_predict(X)\r\n",
        "\r\n",
        "\r\n",
        "plt.subplot2grid ((2,3),(0,2))\r\n",
        "\r\n",
        "plt.scatter(X[y_spectral == 0, 0], X[y_spectral == 0, 1], s = 100, c = 'red', label = 'Sensible Customers')\r\n",
        "plt.scatter(X[y_spectral == 1, 0], X[y_spectral == 1, 1], s = 100, c = 'blue', label = 'A Customers')\r\n",
        "plt.scatter(X[y_spectral == 2, 0], X[y_spectral == 2, 1], s = 100, c = 'green', label = 'B Customers')\r\n",
        "plt.scatter(X[y_spectral == 3, 0], X[y_spectral == 3, 1], s = 100, c = 'olive', label = 'C Customers')\r\n",
        "plt.scatter(X[y_spectral == 4, 0], X[y_spectral == 4, 1], s = 100, c = 'peru', label = 'D Customers')\r\n",
        "\r\n",
        "\r\n",
        "plt.title('5 Clusters of Customers')\r\n",
        "plt.xlabel('PURCHASES')\r\n",
        "plt.ylabel('ONEOFF_PURCHAS')\r\n",
        "plt.legend()\r\n",
        "\r\n",
        "plt.show()"
      ],
      "execution_count": null,
      "outputs": []
    },
    {
      "cell_type": "code",
      "metadata": {
        "id": "KRqRhMUPhSfQ"
      },
      "source": [
        "hierarchical_ = AgglomerativeClustering(n_clusters=3, affinity='euclidean', linkage='ward').fit_predict(X)\r\n",
        "kmeans_ = KMeans(n_clusters = 3, init = 'k-means++', random_state = 42).fit_predict(X)\r\n",
        "spectral_ = SpectralClustering(n_clusters=3, affinity=\"nearest_neighbors\", assign_labels='discretize',\r\n",
        "                                      random_state=40).fit_predict(data_scaled)"
      ],
      "execution_count": null,
      "outputs": []
    },
    {
      "cell_type": "code",
      "metadata": {
        "id": "JbWJplPshVAB"
      },
      "source": [
        "kmeansSilhouette_Score = metrics.silhouette_score(X, kmeans_, metric='euclidean')\r\n",
        "Hierarchical_Silhouette_Score = metrics.silhouette_score(X, hierarchical_, metric='euclidean')\r\n",
        "Spectral_Silhouette_Score = metrics.silhouette_score(X, spectral_, metric='euclidean')"
      ],
      "execution_count": null,
      "outputs": []
    },
    {
      "cell_type": "code",
      "metadata": {
        "id": "0wEXv9bLhYnl"
      },
      "source": [
        "Clustering_Silhouette_Scores = [ ['KMeans',kmeansSilhouette_Score],['Hierarchical',Hierarchical_Silhouette_Score], ['Spectral', Spectral_Silhouette_Score]]\r\n",
        "Clustering_Silhouette_Scores = pd.DataFrame(Clustering_Silhouette_Scores, columns=['Clustering Method', 'Silhouette Score']) \r\n",
        "Clustering_Silhouette_Scores.sort_values(by='Silhouette Score', ascending= False)"
      ],
      "execution_count": null,
      "outputs": []
    }
  ]
}